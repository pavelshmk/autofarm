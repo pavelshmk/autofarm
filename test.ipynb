{
 "cells": [
  {
   "cell_type": "code",
   "execution_count": 1,
   "metadata": {
    "pycharm": {
     "name": "#%%\n"
    }
   },
   "outputs": [],
   "source": [
    "import json\n",
    "from web3 import Web3, HTTPProvider\n",
    "from eth_account import Account\n",
    "\n",
    "with open('/home/user/dev/autofarm/src/utils/contracts/master.abi.json') as f:\n",
    "    abi = json.load(f)\n",
    "\n",
    "acc = Account.from_key('0fa8f63a0453f2c91999a94d0281cbd7a76e165ce538cd99910220dc508c3956')\n",
    "web3 = Web3(HTTPProvider('https://bsc-dataseed.binance.org/'))\n",
    "contract = web3.eth.contract(address='0x3243d89382fAA26e3f4eC39E64243A3aa0Ef3Ed4', abi=abi)"
   ]
  },
  {
   "cell_type": "code",
   "execution_count": 2,
   "metadata": {
    "pycharm": {
     "name": "#%%\n"
    }
   },
   "outputs": [
    {
     "name": "stdout",
     "output_type": "stream",
     "text": [
      "10702640740784555\n"
     ]
    }
   ],
   "source": [
    "deposit = contract.functions.userDeposits(0, acc.address).call()\n",
    "print(deposit)"
   ]
  },
  {
   "cell_type": "code",
   "execution_count": 3,
   "metadata": {
    "pycharm": {
     "name": "#%%\n"
    }
   },
   "outputs": [
    {
     "name": "stdout",
     "output_type": "stream",
     "text": [
      "0x80f777e48424f7159c99d9c9785207cd28e43bf4fb5d243a0efb72a3376bc840\n"
     ]
    }
   ],
   "source": [
    "tx = contract.functions.withdraw(0, deposit).buildTransaction({\n",
    "    'from': acc.address,\n",
    "    'gasPrice': 5 * 10**9,\n",
    "    'nonce': web3.eth.get_transaction_count(acc.address),\n",
    "})\n",
    "estimate = web3.eth.estimate_gas(tx)\n",
    "tx['gas'] = int(estimate * 1.2)\n",
    "signed_tx = acc.sign_transaction(tx)\n",
    "txid = web3.eth.send_raw_transaction(signed_tx.rawTransaction).hex()\n",
    "print(txid)"
   ]
  },
  {
   "cell_type": "code",
   "execution_count": 4,
   "metadata": {
    "pycharm": {
     "name": "#%%\n"
    }
   },
   "outputs": [
    {
     "name": "stdout",
     "output_type": "stream",
     "text": [
      "4359062787551047\n"
     ]
    }
   ],
   "source": [
    "deposit2 = contract.functions.userDeposits(0, acc.address).call()\n",
    "print(deposit2)\n"
   ]
  },
  {
   "cell_type": "code",
   "execution_count": null,
   "metadata": {},
   "outputs": [],
   "source": []
  }
 ],
 "metadata": {
  "kernelspec": {
   "display_name": "Python 3",
   "language": "python",
   "name": "python3"
  },
  "language_info": {
   "codemirror_mode": {
    "name": "ipython",
    "version": 3
   },
   "file_extension": ".py",
   "mimetype": "text/x-python",
   "name": "python",
   "nbconvert_exporter": "python",
   "pygments_lexer": "ipython3",
   "version": "3.9.5"
  }
 },
 "nbformat": 4,
 "nbformat_minor": 1
}